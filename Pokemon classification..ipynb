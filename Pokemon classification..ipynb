{
 "cells": [
  {
   "cell_type": "code",
   "execution_count": 23,
   "id": "ea9c2659",
   "metadata": {},
   "outputs": [
    {
     "name": "stdout",
     "output_type": "stream",
     "text": [
      "1 2 3 4 5\n"
     ]
    }
   ],
   "source": [
    "number=input()"
   ]
  },
  {
   "cell_type": "code",
   "execution_count": 26,
   "id": "5b2f90f5",
   "metadata": {},
   "outputs": [
    {
     "name": "stdout",
     "output_type": "stream",
     "text": [
      "[1, 2, 3, 4, 5]\n"
     ]
    }
   ],
   "source": [
    "n=number.split()\n",
    "numb=[int(x) for x in n]  #list comprehension\n",
    "print(numb)"
   ]
  },
  {
   "cell_type": "code",
   "execution_count": 39,
   "id": "7a3dd640",
   "metadata": {},
   "outputs": [],
   "source": [
    "pokemon_map={\n",
    "    1: \"Bulbasaur\" \" \" \"200\",\n",
    "    2:\"Pikachu\",\n",
    "    3:\"charmender\" \" \" \" 500\",\n",
    "    4:\"Mew\",\n",
    "}"
   ]
  },
  {
   "cell_type": "code",
   "execution_count": 40,
   "id": "ecf47101",
   "metadata": {},
   "outputs": [
    {
     "name": "stdout",
     "output_type": "stream",
     "text": [
      "Bulbasaur 200\n",
      "Pikachu\n",
      "charmender  500\n",
      "Mew\n",
      "Pokemon Not Found!\n"
     ]
    }
   ],
   "source": [
    "for i in numb:\n",
    "    if pokemon_map.get(i) is None:\n",
    "        print(\"Pokemon Not Found!\")\n",
    "    else:\n",
    "        print(pokemon_map[i])"
   ]
  },
  {
   "cell_type": "code",
   "execution_count": 43,
   "id": "f7367eab",
   "metadata": {},
   "outputs": [
    {
     "name": "stdout",
     "output_type": "stream",
     "text": [
      "<class 'tuple'>\n",
      "<class 'list'>\n"
     ]
    }
   ],
   "source": [
    "#can also use list and tuples to give the above data\n",
    "pokemons=[(\"Bulbasaur\",200),(\"Pikachu\",500),(\"Charmender\",900)]\n",
    "print(type(pokemons[0]))\n",
    "print(type(pokemons))\n",
    "\n",
    "#difference between tuple and list is that tuple is read only list."
   ]
  },
  {
   "cell_type": "code",
   "execution_count": null,
   "id": "f7b1a80a",
   "metadata": {},
   "outputs": [],
   "source": []
  }
 ],
 "metadata": {
  "kernelspec": {
   "display_name": "Python 3",
   "language": "python",
   "name": "python3"
  },
  "language_info": {
   "codemirror_mode": {
    "name": "ipython",
    "version": 3
   },
   "file_extension": ".py",
   "mimetype": "text/x-python",
   "name": "python",
   "nbconvert_exporter": "python",
   "pygments_lexer": "ipython3",
   "version": "3.8.8"
  }
 },
 "nbformat": 4,
 "nbformat_minor": 5
}
