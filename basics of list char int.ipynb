{
 "cells": [
  {
   "cell_type": "code",
   "execution_count": 1,
   "id": "2bcfae82",
   "metadata": {},
   "outputs": [
    {
     "name": "stdout",
     "output_type": "stream",
     "text": [
      "1 2 3 4 5 6 \n"
     ]
    }
   ],
   "source": [
    "numb=input()"
   ]
  },
  {
   "cell_type": "code",
   "execution_count": 6,
   "id": "c960122f",
   "metadata": {},
   "outputs": [
    {
     "data": {
      "text/plain": [
       "str"
      ]
     },
     "execution_count": 6,
     "metadata": {},
     "output_type": "execute_result"
    }
   ],
   "source": [
    "type(numb)"
   ]
  },
  {
   "cell_type": "code",
   "execution_count": 7,
   "id": "d2ad4e58",
   "metadata": {},
   "outputs": [
    {
     "data": {
      "text/plain": [
       "['1', '2', '3', '4', '5', '6']"
      ]
     },
     "execution_count": 7,
     "metadata": {},
     "output_type": "execute_result"
    }
   ],
   "source": [
    "numb.split()"
   ]
  },
  {
   "cell_type": "code",
   "execution_count": 8,
   "id": "6ea859fe",
   "metadata": {},
   "outputs": [
    {
     "data": {
      "text/plain": [
       "str"
      ]
     },
     "execution_count": 8,
     "metadata": {},
     "output_type": "execute_result"
    }
   ],
   "source": [
    "type(numb)"
   ]
  },
  {
   "cell_type": "code",
   "execution_count": 12,
   "id": "bf6941db",
   "metadata": {},
   "outputs": [
    {
     "name": "stdout",
     "output_type": "stream",
     "text": [
      "['1', '2', '3', '4', '5', '6']\n"
     ]
    }
   ],
   "source": [
    "number_list_char=\"1 2 3 4 5 6\".split()\n",
    "print(number)"
   ]
  },
  {
   "cell_type": "code",
   "execution_count": 14,
   "id": "4ab53e70",
   "metadata": {},
   "outputs": [
    {
     "data": {
      "text/plain": [
       "list"
      ]
     },
     "execution_count": 14,
     "metadata": {},
     "output_type": "execute_result"
    }
   ],
   "source": [
    "type(number_list_char)"
   ]
  },
  {
   "cell_type": "code",
   "execution_count": 15,
   "id": "609fdd7d",
   "metadata": {},
   "outputs": [
    {
     "name": "stdout",
     "output_type": "stream",
     "text": [
      "[1, 2, 3, 4, 5, 6]\n"
     ]
    }
   ],
   "source": [
    "#to get numbers list of integers\n",
    "number_list_int=[int(x) for x in number_list_char]  #list comprehension\n",
    "print(number_list_int)"
   ]
  },
  {
   "cell_type": "code",
   "execution_count": 16,
   "id": "1b312c7c",
   "metadata": {},
   "outputs": [
    {
     "data": {
      "text/plain": [
       "list"
      ]
     },
     "execution_count": 16,
     "metadata": {},
     "output_type": "execute_result"
    }
   ],
   "source": [
    "type(number_list_int)"
   ]
  }
 ],
 "metadata": {
  "kernelspec": {
   "display_name": "Python 3",
   "language": "python",
   "name": "python3"
  },
  "language_info": {
   "codemirror_mode": {
    "name": "ipython",
    "version": 3
   },
   "file_extension": ".py",
   "mimetype": "text/x-python",
   "name": "python",
   "nbconvert_exporter": "python",
   "pygments_lexer": "ipython3",
   "version": "3.8.8"
  }
 },
 "nbformat": 4,
 "nbformat_minor": 5
}
