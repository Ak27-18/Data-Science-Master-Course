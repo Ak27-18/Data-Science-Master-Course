{
 "cells": [
  {
   "cell_type": "code",
   "execution_count": 1,
   "id": "bf24bf6a",
   "metadata": {},
   "outputs": [],
   "source": [
    "#function\n",
    "def pokemons(number):\n",
    "    \n",
    "    #dictionary\n",
    "    pokemon_map={\n",
    "    1: \"Bulbasaur\" \" \" \"200\",\n",
    "    2: \"Charmender\" \" \" \"800\",\n",
    "    3: \"Pikachu\" \" \" \"500\", \n",
    "    }\n",
    "    \n",
    "    #loop\n",
    "    for i in number:\n",
    "        if pokemon_map.get(i) is None:\n",
    "            print(\"Pokemon not found\")\n",
    "        else:\n",
    "            print(pokemon_map[i])\n",
    "\n",
    "    return"
   ]
  },
  {
   "cell_type": "code",
   "execution_count": 2,
   "id": "c255bb6b",
   "metadata": {},
   "outputs": [
    {
     "name": "stdout",
     "output_type": "stream",
     "text": [
      "1 2 1 1 3 4 \n",
      "Bulbasaur 200\n",
      "Charmender 800\n",
      "Bulbasaur 200\n",
      "Bulbasaur 200\n",
      "Pikachu 500\n",
      "Pokemon not found\n"
     ]
    }
   ],
   "source": [
    "number=[int(x) for x in input().split()]\n",
    "pokemons(number)"
   ]
  },
  {
   "cell_type": "code",
   "execution_count": null,
   "id": "8b4b8ab6",
   "metadata": {},
   "outputs": [],
   "source": []
  }
 ],
 "metadata": {
  "kernelspec": {
   "display_name": "Python 3",
   "language": "python",
   "name": "python3"
  },
  "language_info": {
   "codemirror_mode": {
    "name": "ipython",
    "version": 3
   },
   "file_extension": ".py",
   "mimetype": "text/x-python",
   "name": "python",
   "nbconvert_exporter": "python",
   "pygments_lexer": "ipython3",
   "version": "3.8.8"
  }
 },
 "nbformat": 4,
 "nbformat_minor": 5
}
