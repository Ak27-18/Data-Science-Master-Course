{
 "cells": [
  {
   "cell_type": "code",
   "execution_count": 1,
   "id": "4d7ad264",
   "metadata": {},
   "outputs": [
    {
     "name": "stdout",
     "output_type": "stream",
     "text": [
      "Requirement already satisfied: numpy in ./opt/anaconda3/lib/python3.8/site-packages (1.20.1)\r\n"
     ]
    }
   ],
   "source": [
    "!pip install numpy"
   ]
  },
  {
   "cell_type": "code",
   "execution_count": 2,
   "id": "a0be4f3b",
   "metadata": {},
   "outputs": [],
   "source": [
    "import numpy as np"
   ]
  },
  {
   "cell_type": "code",
   "execution_count": 3,
   "id": "7c2fe8f0",
   "metadata": {},
   "outputs": [
    {
     "data": {
      "text/plain": [
       "5"
      ]
     },
     "execution_count": 3,
     "metadata": {},
     "output_type": "execute_result"
    }
   ],
   "source": [
    "np.absolute(-5)"
   ]
  },
  {
   "cell_type": "code",
   "execution_count": 4,
   "id": "845fcfde",
   "metadata": {},
   "outputs": [],
   "source": [
    "#few imoportan function "
   ]
  },
  {
   "cell_type": "code",
   "execution_count": 5,
   "id": "a25d2368",
   "metadata": {},
   "outputs": [
    {
     "name": "stdout",
     "output_type": "stream",
     "text": [
      "[1 2 3 4]\n"
     ]
    }
   ],
   "source": [
    "#array\n",
    "a = np.array([1,2,3,4])\n",
    "print(a)"
   ]
  },
  {
   "cell_type": "code",
   "execution_count": 6,
   "id": "934d7564",
   "metadata": {},
   "outputs": [
    {
     "name": "stdout",
     "output_type": "stream",
     "text": [
      "<class 'numpy.ndarray'>\n"
     ]
    }
   ],
   "source": [
    "print(type(a))"
   ]
  },
  {
   "cell_type": "code",
   "execution_count": 7,
   "id": "5ffdbb3a",
   "metadata": {},
   "outputs": [
    {
     "data": {
      "text/plain": [
       "(4,)"
      ]
     },
     "execution_count": 7,
     "metadata": {},
     "output_type": "execute_result"
    }
   ],
   "source": [
    "a.shape   #gives the dimensions of array"
   ]
  },
  {
   "cell_type": "code",
   "execution_count": 8,
   "id": "025e9b72",
   "metadata": {},
   "outputs": [
    {
     "name": "stdout",
     "output_type": "stream",
     "text": [
      "(4,)\n"
     ]
    }
   ],
   "source": [
    "#can also be done as\n",
    "print(a.shape)"
   ]
  },
  {
   "cell_type": "code",
   "execution_count": 9,
   "id": "13cca48c",
   "metadata": {},
   "outputs": [
    {
     "data": {
      "text/plain": [
       "(2, 4)"
      ]
     },
     "execution_count": 9,
     "metadata": {},
     "output_type": "execute_result"
    }
   ],
   "source": [
    "#creating 2d array\n",
    "b = np.array([[1,2,3,4],[5,6,7,8]])\n",
    "b.shape"
   ]
  },
  {
   "cell_type": "code",
   "execution_count": 10,
   "id": "51394251",
   "metadata": {},
   "outputs": [
    {
     "data": {
      "text/plain": [
       "array([[1, 5],\n",
       "       [2, 6],\n",
       "       [3, 7],\n",
       "       [4, 8]])"
      ]
     },
     "execution_count": 10,
     "metadata": {},
     "output_type": "execute_result"
    }
   ],
   "source": [
    "#dot product\n",
    "b.T\n",
    "#the above is for transpose"
   ]
  },
  {
   "cell_type": "code",
   "execution_count": 11,
   "id": "b417a5b2",
   "metadata": {},
   "outputs": [
    {
     "data": {
      "text/plain": [
       "array([[ 30,  70],\n",
       "       [ 70, 174]])"
      ]
     },
     "execution_count": 11,
     "metadata": {},
     "output_type": "execute_result"
    }
   ],
   "source": [
    "np.dot(b,b.T)"
   ]
  },
  {
   "cell_type": "code",
   "execution_count": 12,
   "id": "5124870f",
   "metadata": {},
   "outputs": [],
   "source": [
    "#the question helps to get the arguments this function will accept.\n",
    "np.random.randint?"
   ]
  },
  {
   "cell_type": "code",
   "execution_count": 13,
   "id": "680a1769",
   "metadata": {},
   "outputs": [
    {
     "data": {
      "text/plain": [
       "array([99, 66, 92, 93, 69, 79, 95, 66, 90, 60])"
      ]
     },
     "execution_count": 13,
     "metadata": {},
     "output_type": "execute_result"
    }
   ],
   "source": [
    "#task: to generate random marks of 10 student ranging from 60-100 \n",
    "np.random.randint(60,100,10)"
   ]
  },
  {
   "cell_type": "code",
   "execution_count": 14,
   "id": "4c93db4b",
   "metadata": {},
   "outputs": [
    {
     "name": "stdout",
     "output_type": "stream",
     "text": [
      "[[81 69 66 85 90]\n",
      " [91 71 99 94 83]\n",
      " [67 83 75 65 79]\n",
      " [62 93 83 72 70]\n",
      " [77 66 96 98 61]]\n"
     ]
    }
   ],
   "source": [
    "#creating a 2d array of 5x5 60-100 are marks\n",
    "matrix_a=np.random.randint(60,100,(5,5))\n",
    "print(matrix_a)"
   ]
  },
  {
   "cell_type": "code",
   "execution_count": 15,
   "id": "14df2d5b",
   "metadata": {},
   "outputs": [
    {
     "name": "stdout",
     "output_type": "stream",
     "text": [
      "99 61\n"
     ]
    }
   ],
   "source": [
    "s=np.max(matrix_a)\n",
    "d=np.min(matrix_a)\n",
    "print(s,d)"
   ]
  },
  {
   "cell_type": "code",
   "execution_count": 16,
   "id": "2132fc19",
   "metadata": {},
   "outputs": [
    {
     "data": {
      "text/plain": [
       "3"
      ]
     },
     "execution_count": 16,
     "metadata": {},
     "output_type": "execute_result"
    }
   ],
   "source": [
    "a=np.array([0,1,2,-8,6,8,6,10,6,6])\n",
    "#to get the index of the element where the minimum element occurs \n",
    "np.argmin(a)"
   ]
  },
  {
   "cell_type": "raw",
   "id": "85d6445d",
   "metadata": {},
   "source": [
    "unique elements of array"
   ]
  },
  {
   "cell_type": "code",
   "execution_count": 17,
   "id": "eb792bf8",
   "metadata": {},
   "outputs": [
    {
     "name": "stdout",
     "output_type": "stream",
     "text": [
      "(array([-8,  0,  1,  2,  6,  8, 10]), array([1, 1, 1, 1, 4, 1, 1]))\n"
     ]
    }
   ],
   "source": [
    "print(np.unique(a,return_counts=True))\n",
    "\n",
    "#np.unique will display unique elemnts wtihout repetition of a and return_count will basically give u the number of time it occured in that array "
   ]
  },
  {
   "cell_type": "code",
   "execution_count": 19,
   "id": "1061d15a",
   "metadata": {},
   "outputs": [
    {
     "name": "stdout",
     "output_type": "stream",
     "text": [
      "[-8  0  1  2  6  8 10] [1 1 1 1 4 1 1]\n"
     ]
    }
   ],
   "source": [
    "b=np.unique(a,return_counts=True)\n",
    "print(b[0],b[1])"
   ]
  },
  {
   "cell_type": "code",
   "execution_count": 21,
   "id": "3957193e",
   "metadata": {},
   "outputs": [
    {
     "name": "stdout",
     "output_type": "stream",
     "text": [
      "6\n"
     ]
    }
   ],
   "source": [
    "#code to find number with the heighest frequency in an array\n",
    "idx=np.argmax(b[1]) #index with heighest frequency\n",
    "element=b[0][idx]  #will print the number from tuple 0 and element at idx position\n",
    "print(element)"
   ]
  },
  {
   "cell_type": "code",
   "execution_count": 23,
   "id": "af3cc9e5",
   "metadata": {},
   "outputs": [
    {
     "data": {
      "text/plain": [
       "array([[81, 69, 66, 85, 90],\n",
       "       [91, 71, 99, 94, 83],\n",
       "       [67, 83, 75, 65, 79],\n",
       "       [62, 93, 83, 72, 70],\n",
       "       [77, 66, 96, 98, 61]])"
      ]
     },
     "execution_count": 23,
     "metadata": {},
     "output_type": "execute_result"
    }
   ],
   "source": [
    "#slicing\n",
    "matrix_a"
   ]
  },
  {
   "cell_type": "code",
   "execution_count": 25,
   "id": "5da10b9a",
   "metadata": {},
   "outputs": [
    {
     "data": {
      "text/plain": [
       "array([[83, 75],\n",
       "       [93, 83],\n",
       "       [66, 96]])"
      ]
     },
     "execution_count": 25,
     "metadata": {},
     "output_type": "execute_result"
    }
   ],
   "source": [
    "#hoe to get 83 75 93 83\n",
    "matrix_a[2:5,1:3]    #slicing"
   ]
  },
  {
   "cell_type": "code",
   "execution_count": null,
   "id": "829df151",
   "metadata": {},
   "outputs": [],
   "source": []
  }
 ],
 "metadata": {
  "kernelspec": {
   "display_name": "Python 3",
   "language": "python",
   "name": "python3"
  },
  "language_info": {
   "codemirror_mode": {
    "name": "ipython",
    "version": 3
   },
   "file_extension": ".py",
   "mimetype": "text/x-python",
   "name": "python",
   "nbconvert_exporter": "python",
   "pygments_lexer": "ipython3",
   "version": "3.8.8"
  }
 },
 "nbformat": 4,
 "nbformat_minor": 5
}
